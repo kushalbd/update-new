{
 "cells": [
  {
   "cell_type": "code",
   "execution_count": null,
   "id": "1658cc77-090e-4153-8b4f-42b38f542492",
   "metadata": {},
   "outputs": [
    {
     "name": "stdout",
     "output_type": "stream",
     "text": [
      "Play Rock Paper Scissors; where rock = 1, paper = 2, scissors = 3\n"
     ]
    },
    {
     "name": "stdin",
     "output_type": "stream",
     "text": [
      "Enter 1 (Rock), 2 (Paper), or 3 (Scissors):  1\n"
     ]
    },
    {
     "name": "stdout",
     "output_type": "stream",
     "text": [
      "You chose: rock\n",
      "Computer's turn...\n",
      "Computer chose: rock\n",
      "rock vs rock\n",
      "It's a tie!\n"
     ]
    }
   ],
   "source": [
    "import random\n",
    "\n",
    "print('Play Rock Paper Scissors; where rock = 1, paper = 2, scissors = 3')\n",
    "\n",
    "while True:\n",
    "    # Keep asking until valid input is given\n",
    "    while True:\n",
    "        try:\n",
    "            rpc = int(input('Enter 1 (Rock), 2 (Paper), or 3 (Scissors): '))\n",
    "            if rpc < 1 or rpc > 3:\n",
    "                print(\"Please enter a valid number between 1 and 3.\")\n",
    "                continue\n",
    "            break  # Valid input, break the loop\n",
    "        except ValueError:\n",
    "            print(\"Invalid input! Please enter a number (1, 2, or 3).\")\n",
    "\n",
    "    # Assign user choice name\n",
    "    if rpc == 1:\n",
    "        rpc_name = 'rock'\n",
    "    elif rpc == 2:\n",
    "        rpc_name = 'paper'\n",
    "    else:\n",
    "        rpc_name = 'scissors'\n",
    "\n",
    "    print('You chose:', rpc_name)\n",
    "\n",
    "    # Computer's choice\n",
    "    print(\"Computer's turn...\")\n",
    "    rpc_computer = random.randint(1, 3)\n",
    "\n",
    "    if rpc_computer == 1:\n",
    "        com_name = 'rock'\n",
    "    elif rpc_computer == 2:\n",
    "        com_name = 'paper'\n",
    "    else:\n",
    "        com_name = 'scissors'\n",
    "\n",
    "    print('Computer chose:', com_name)\n",
    "    print(rpc_name, 'vs', com_name)\n",
    "\n",
    "    # Determine the winner\n",
    "    if rpc == rpc_computer:\n",
    "        result = \"draw\"\n",
    "    elif (rpc == 1 and rpc_computer == 2) or (rpc == 2 and rpc_computer == 1):\n",
    "        result = \"paper\"\n",
    "    elif (rpc == 1 and rpc_computer == 3) or (rpc == 3 and rpc_computer == 1):\n",
    "        result = \"rock\"\n",
    "    elif (rpc == 2 and rpc_computer == 3) or (rpc == 3 and rpc_computer == 2):\n",
    "        result = \"scissors\"\n",
    "\n",
    "    if result == \"draw\":\n",
    "        print(\"It's a tie!\")\n",
    "    elif result == rpc_name:\n",
    "        print(\"You win!\")\n",
    "    else:\n",
    "        print(\"Computer wins!\")\n",
    "\n",
    "    # Ask user if they want to play again\n",
    "    ans = input(\"Do you want to play again? (y/n): \").lower()\n",
    "    if ans == 'n':\n",
    "        break\n",
    "\n",
    "print(\"Thanks for playing!\")\n"
   ]
  },
  {
   "cell_type": "code",
   "execution_count": null,
   "id": "be484538-33a0-452e-ba2d-ff8f32297960",
   "metadata": {},
   "outputs": [],
   "source": []
  },
  {
   "cell_type": "code",
   "execution_count": null,
   "id": "3b60e3c4-6065-418b-a3f5-154ca1edbe3b",
   "metadata": {},
   "outputs": [],
   "source": []
  }
 ],
 "metadata": {
  "kernelspec": {
   "display_name": "Python 3 (ipykernel)",
   "language": "python",
   "name": "python3"
  },
  "language_info": {
   "codemirror_mode": {
    "name": "ipython",
    "version": 3
   },
   "file_extension": ".py",
   "mimetype": "text/x-python",
   "name": "python",
   "nbconvert_exporter": "python",
   "pygments_lexer": "ipython3",
   "version": "3.12.7"
  }
 },
 "nbformat": 4,
 "nbformat_minor": 5
}
