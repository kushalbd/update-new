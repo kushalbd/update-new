{
 "cells": [
  {
   "cell_type": "code",
   "execution_count": 10,
   "id": "d249e31a-961a-4b92-a5e2-f85e26a25a4f",
   "metadata": {},
   "outputs": [
    {
     "name": "stdout",
     "output_type": "stream",
     "text": [
      "guess to word whereas words are fruit\n",
      "______\n",
      "\n"
     ]
    },
    {
     "name": "stdin",
     "output_type": "stream",
     "text": [
      "enter a letter to guess a\n"
     ]
    },
    {
     "name": "stdout",
     "output_type": "stream",
     "text": [
      "_a_a_a\n"
     ]
    },
    {
     "name": "stdin",
     "output_type": "stream",
     "text": [
      "enter a letter to guess b\n"
     ]
    },
    {
     "name": "stdout",
     "output_type": "stream",
     "text": [
      "ba_a_a\n"
     ]
    },
    {
     "name": "stdin",
     "output_type": "stream",
     "text": [
      "enter a letter to guess n\n"
     ]
    },
    {
     "name": "stdout",
     "output_type": "stream",
     "text": [
      "the word isbanana\n",
      "you won\n"
     ]
    }
   ],
   "source": [
    "import random\n",
    "from collections import Counter\n",
    "swords='''apple banana mango strawberry \n",
    "orange grape pineapple apricot lemon coconut watermelon \n",
    "cherry papaya berry peach lychee muskmelon'''\n",
    "swords=swords.split(' ')# divide sstring into list of substring into spces\n",
    "word=random.choice(swords)\n",
    "\n",
    "if __name__ =='__main__':\n",
    "    print('guess to word whereas words are fruit')\n",
    "    for i in word:\n",
    "        print('_',end='')#to come in one line\n",
    "    print()\n",
    "\n",
    "    playing = True #assigned bnoolean value\n",
    "    letterGuessed=''\n",
    "    chances=len(word)+2# total chances\n",
    "    correct=0\n",
    "    flag=0\n",
    "    try:              #\n",
    "        while(chances!=0) and flag==0:#runs out of chances or guess the word(flag==1)\n",
    "            print()\n",
    "            chances-=1#i=i-1\n",
    "\n",
    "            try:\n",
    "                guess=str(input('enter a letter to guess'))\n",
    "            except:\n",
    "                print('enter only letter')\n",
    "                continue\n",
    "\n",
    "            if not guess.isalpha():#It returns True if all characters in the string guess are lettersa-z for guess validation\n",
    "                print('Enter only a letter')\n",
    "                continue\n",
    "            elif len(guess)>1:\n",
    "                print('enter a single letter')\n",
    "                continue\n",
    "            elif guess in letterGuessed:\n",
    "                print('already guessed that letter')\n",
    "                continue\n",
    "\n",
    "            if guess in word:\n",
    "                k=word.count(guess)#stores it number of times it occured if gussed correctly\n",
    "                for _ in range(k):\n",
    "                    letterGuessed+=guess#added  how many times it occured\n",
    "            for char in word: #to print the word\n",
    "                if char in letterGuessed and (Counter(letterGuessed)!=Counter(word)):#If it has been guessed, print it.Otherwise, print _.\n",
    "                    print(char,end='')\n",
    "                    correct+=1\n",
    "                elif (Counter(letterGuessed)==Counter(word)):#full word is guessed\n",
    "                    print('the word is',end='')\n",
    "                    print(word)\n",
    "                    flag=1\n",
    "                    print('you won')\n",
    "                    break #for loop\n",
    "                    break #while loop\n",
    "                else:\n",
    "                    print('_',end='')\n",
    "        if chances<=0 and (Counter(letterGuessed)!=Counter(word)):\n",
    "            print()\n",
    "            print('you lost')\n",
    "            print('the word was {}'.format(word))\n",
    "    except KeyboardInterrupt:\n",
    "        print()\n",
    "        print('Try again')\n",
    "        exit()\n"
   ]
  },
  {
   "cell_type": "code",
   "execution_count": null,
   "id": "ad334440-57b1-440c-9663-aa58d491a636",
   "metadata": {},
   "outputs": [],
   "source": []
  }
 ],
 "metadata": {
  "kernelspec": {
   "display_name": "Python 3 (ipykernel)",
   "language": "python",
   "name": "python3"
  },
  "language_info": {
   "codemirror_mode": {
    "name": "ipython",
    "version": 3
   },
   "file_extension": ".py",
   "mimetype": "text/x-python",
   "name": "python",
   "nbconvert_exporter": "python",
   "pygments_lexer": "ipython3",
   "version": "3.12.7"
  }
 },
 "nbformat": 4,
 "nbformat_minor": 5
}
