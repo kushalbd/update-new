{
 "cells": [
  {
   "cell_type": "code",
   "execution_count": 7,
   "id": "e504386b-4773-493d-9a25-f56dcd277277",
   "metadata": {},
   "outputs": [
    {
     "name": "stderr",
     "output_type": "stream",
     "text": [
      "[NbConvertApp] Converting notebook logic.ipynb to script\n",
      "[NbConvertApp] Writing 6590 bytes to logic.py\n"
     ]
    }
   ],
   "source": [
    "!jupyter nbconvert --to script logic.ipynb"
   ]
  },
  {
   "cell_type": "code",
   "execution_count": null,
   "id": "c59f70f9-13c6-4e9e-a970-4eb7343e74e0",
   "metadata": {},
   "outputs": [
    {
     "name": "stdout",
     "output_type": "stream",
     "text": [
      "Commands are as follows : \n",
      "'W' or 'w' : Move Up\n",
      "'S' or 's' : Move Down\n",
      "'A' or 'a' : Move Left\n",
      "'D' or 'd' : Move Right\n"
     ]
    }
   ],
   "source": [
    "\n",
    "import logic\n",
    "# Driver code\n",
    "if __name__ == '__main__':\n",
    "    \n",
    "# calling start_game function\n",
    "# to initialize the matrix\n",
    "    mat = logic.start_game()\n",
    "\n",
    "while(True):\n",
    "\n",
    "    # taking the user input\n",
    "    # for next step\n",
    "    x = input(\"Press the command : \")\n",
    "\n",
    "    # we have to move up\n",
    "    if(x == 'W' or x == 'w'):\n",
    "\n",
    "        # call the move_up function\n",
    "        mat, flag = logic.move_up(mat)\n",
    "\n",
    "        # get the current state and print it\n",
    "        status = logic.get_current_state(mat)\n",
    "        print(status)\n",
    "\n",
    "        # if game not over then continue\n",
    "        # and add a new two\n",
    "        if(status == 'GAME NOT OVER'):\n",
    "            logic.add_new_2(mat)\n",
    "\n",
    "        # else break the loop \n",
    "        else:\n",
    "            break\n",
    "\n",
    "    # the above process will be followed\n",
    "    # in case of each type of move\n",
    "    # below\n",
    "\n",
    "    # to move down\n",
    "    elif(x == 'S' or x == 's'):\n",
    "        mat, flag = logic.move_down(mat)\n",
    "        status = logic.get_current_state(mat)\n",
    "        print(status)\n",
    "        if(status == 'GAME NOT OVER'):\n",
    "            logic.add_new_2(mat)\n",
    "        else:\n",
    "            break\n",
    "\n",
    "    # to move left\n",
    "    elif(x == 'A' or x == 'a'):\n",
    "        mat, flag = logic.move_left(mat)\n",
    "        status = logic.get_current_state(mat)\n",
    "        print(status)\n",
    "        if(status == 'GAME NOT OVER'):\n",
    "            logic.add_new_2(mat)\n",
    "        else:\n",
    "            break\n",
    "\n",
    "    # to move right\n",
    "    elif(x == 'D' or x == 'd'):\n",
    "        mat, flag = logic.move_right(mat)\n",
    "        status = logic.get_current_state(mat)\n",
    "        print(status)\n",
    "        if(status == 'GAME NOT OVER'):\n",
    "            logic.add_new_2(mat)\n",
    "        else:\n",
    "            break\n",
    "    else:\n",
    "        print(\"Invalid Key Pressed\")\n",
    "\n",
    "    # print the matrix after each\n",
    "    # move.\n",
    "    print(mat)"
   ]
  },
  {
   "cell_type": "code",
   "execution_count": null,
   "id": "9a938ca3-6a24-4239-b944-517408decffe",
   "metadata": {},
   "outputs": [],
   "source": []
  },
  {
   "cell_type": "code",
   "execution_count": 4,
   "id": "4150feb2-26f4-4cdb-9895-c5f8938eac7e",
   "metadata": {},
   "outputs": [
    {
     "name": "stdout",
     "output_type": "stream",
     "text": [
      "['.ipynb_checkpoints', 'game main.ipynb', 'logic.ipynb']\n"
     ]
    }
   ],
   "source": [
    "import os\n",
    "print(os.listdir())"
   ]
  },
  {
   "cell_type": "code",
   "execution_count": null,
   "id": "13066095-8b7a-4f65-bca3-be5a57cd8795",
   "metadata": {},
   "outputs": [],
   "source": []
  }
 ],
 "metadata": {
  "kernelspec": {
   "display_name": "Python 3 (ipykernel)",
   "language": "python",
   "name": "python3"
  },
  "language_info": {
   "codemirror_mode": {
    "name": "ipython",
    "version": 3
   },
   "file_extension": ".py",
   "mimetype": "text/x-python",
   "name": "python",
   "nbconvert_exporter": "python",
   "pygments_lexer": "ipython3",
   "version": "3.12.7"
  }
 },
 "nbformat": 4,
 "nbformat_minor": 5
}
