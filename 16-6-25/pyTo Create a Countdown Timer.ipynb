{
 "cells": [
  {
   "cell_type": "code",
   "execution_count": 1,
   "id": "9642ceef-8e72-4f6b-a55a-99a2bd9b4582",
   "metadata": {},
   "outputs": [
    {
     "name": "stdin",
     "output_type": "stream",
     "text": [
      "enter the time in seconds 5\n"
     ]
    },
    {
     "name": "stdout",
     "output_type": "stream",
     "text": [
      "FIRE weapon\n"
     ]
    }
   ],
   "source": [
    "import time\n",
    "\n",
    "def countdown(t):\n",
    "    \n",
    "    while t:\n",
    "        mins,secs=divmod(t,60)# convert in sec\n",
    "        timer=\"{:02d}:{:02d}\".format(mins,secs)#format specifier:02-width of character and d- decimal integer ; where mins and secs as variables as arguments\n",
    "        print(timer, end='\\r') #\\r-return character so overwritw wirh new value\n",
    "        time.sleep(1)# PAUSE for 1 sec\n",
    "        t-=1\n",
    "    print(\"FIRE weapon\")# 4 characters,can give error \n",
    "t=input(\"enter the time in seconds\")\n",
    "countdown(int(t))"
   ]
  },
  {
   "cell_type": "code",
   "execution_count": null,
   "id": "6f0571de-fdb3-4f8f-a6f5-e2affc3a3165",
   "metadata": {},
   "outputs": [],
   "source": []
  },
  {
   "cell_type": "code",
   "execution_count": null,
   "id": "f350e901-1da8-4155-b7c0-edd59f91e12b",
   "metadata": {},
   "outputs": [],
   "source": []
  }
 ],
 "metadata": {
  "kernelspec": {
   "display_name": "Python 3 (ipykernel)",
   "language": "python",
   "name": "python3"
  },
  "language_info": {
   "codemirror_mode": {
    "name": "ipython",
    "version": 3
   },
   "file_extension": ".py",
   "mimetype": "text/x-python",
   "name": "python",
   "nbconvert_exporter": "python",
   "pygments_lexer": "ipython3",
   "version": "3.12.7"
  }
 },
 "nbformat": 4,
 "nbformat_minor": 5
}
