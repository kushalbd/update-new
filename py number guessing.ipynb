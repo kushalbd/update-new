{
 "cells": [
  {
   "cell_type": "code",
   "execution_count": null,
   "id": "b5b262bd-ed95-4c07-b81c-9577e4b91097",
   "metadata": {},
   "outputs": [
    {
     "name": "stdout",
     "output_type": "stream",
     "text": [
      "you have 6 chances to guess number\n"
     ]
    }
   ],
   "source": [
    "import math\n",
    "import random\n",
    "print(\"you have 6 chances to guess number\")\n",
    "\n",
    "lower=int(input(\"Enter lower bound\"))\n",
    "upper=int(input(\"Enter upper bound\"))\n",
    "\n",
    "number1=random.randint(lower,upper)\n",
    "chance = 6\n",
    "guess_counter = 0\n",
    "\n",
    "while guess_counter < chance:\n",
    "    guess_counter +=1 #guess_counter = guess_counter + 1\n",
    "    guess=int(input(\"enter your guess\"))\n",
    "\n",
    "    if guess == number1:\n",
    "        print(\"correct number guessed in \", guess_counter)\n",
    "        break\n",
    "\n",
    "    elif guess_counter >= chance and guess !=number1:\n",
    "        print(\"sorry number was\",number1)\n",
    "    elif guess>number1:\n",
    "        print(\"Too high try lower\")\n",
    "    elif guess<number1:\n",
    "        print(\"Too low try higher\")\n",
    "              \n"
   ]
  },
  {
   "cell_type": "code",
   "execution_count": null,
   "id": "5b2deed6-c7ea-4b09-bd2f-b60b000d3744",
   "metadata": {},
   "outputs": [],
   "source": []
  }
 ],
 "metadata": {
  "kernelspec": {
   "display_name": "Python 3 (ipykernel)",
   "language": "python",
   "name": "python3"
  },
  "language_info": {
   "codemirror_mode": {
    "name": "ipython",
    "version": 3
   },
   "file_extension": ".py",
   "mimetype": "text/x-python",
   "name": "python",
   "nbconvert_exporter": "python",
   "pygments_lexer": "ipython3",
   "version": "3.12.7"
  }
 },
 "nbformat": 4,
 "nbformat_minor": 5
}
