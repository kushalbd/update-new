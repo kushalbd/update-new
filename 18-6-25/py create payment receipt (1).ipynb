{
 "cells": [
  {
   "cell_type": "code",
   "execution_count": null,
   "id": "b2d00ac0-49c6-4618-b4ec-8719c47412ab",
   "metadata": {},
   "outputs": [],
   "source": []
  },
  {
   "cell_type": "code",
   "execution_count": 1,
   "id": "b0db8aaf-7414-463d-8308-d724e5eedd33",
   "metadata": {},
   "outputs": [
    {
     "name": "stdout",
     "output_type": "stream",
     "text": [
      "Requirement already satisfied: reportlab in c:\\users\\kushal\\anaconda3\\lib\\site-packages (4.4.1)Note: you may need to restart the kernel to use updated packages.\n",
      "\n",
      "Requirement already satisfied: pillow>=9.0.0 in c:\\users\\kushal\\anaconda3\\lib\\site-packages (from reportlab) (10.4.0)\n",
      "Requirement already satisfied: chardet in c:\\users\\kushal\\anaconda3\\lib\\site-packages (from reportlab) (4.0.0)\n"
     ]
    }
   ],
   "source": [
    "pip install reportlab"
   ]
  },
  {
   "cell_type": "code",
   "execution_count": 3,
   "id": "c697357f-b722-4f25-94f2-efebb7eece89",
   "metadata": {},
   "outputs": [],
   "source": [
    "from reportlab.platypus import SimpleDocTemplate, Table, Paragraph, TableStyle #PLATYPUS = Page Layout and Typography Using Scripts\n",
    "from reportlab.lib import colors\n",
    "from reportlab.lib.pagesizes import A4\n",
    "from reportlab.lib.styles import getSampleStyleSheet #apply fonts, spacing, alignment(standard)\n",
    "data=[['Sr no','name','quantity','price'],\n",
    "      ['1','sugar','2','90'],\n",
    "      ['2','dal','1.5','60'],\n",
    "      ['3','biscuit','1','10'],\n",
    "      ['total','','','160']]\n",
    "pdf=SimpleDocTemplate('receipt.pdf',pagesize=A4)#create a pdf\n",
    "styles=getSampleStyleSheet()\n",
    "title_style=styles['Heading2']#from above\n",
    "title_style.alignment=0 # 0: left, 1: center, 2: right\n",
    "title=Paragraph('Grocery Recipt',title_style)#to get format\n",
    "style=TableStyle(\n",
    "    [('BOX',(0,0),(-1,-1),1,colors.blue),#(-1, -1) means bottom-right and blue border and 1 is line thickness\n",
    "     ('GRID',(0,0),(3,4),1,colors.red),#grid lines middle lines between them and can be used -1,-1\n",
    "     ('BACKGROUND',(0,0),(3,0),colors.black),\n",
    "     ('TEXTCOLOR',(0,0),(-1,0),colors.red),\n",
    "     (\"ALIGN\", (0, 0), (-1, -1), \"CENTER\"),\n",
    "     (\"BACKGROUND\", (0, 1), (-1, -1), colors.yellow),\n",
    "    ])\n",
    "table=Table(data,style=style)# list from data and style from tablestyle and create table oblect\n",
    "pdf.build([title,table])#generate pdf where title as heading and table\n",
    "\n",
    "      "
   ]
  },
  {
   "cell_type": "code",
   "execution_count": null,
   "id": "e0b52483-bb4d-4ba8-b703-65df6ce7cc11",
   "metadata": {},
   "outputs": [],
   "source": []
  }
 ],
 "metadata": {
  "kernelspec": {
   "display_name": "Python [conda env:base] *",
   "language": "python",
   "name": "conda-base-py"
  },
  "language_info": {
   "codemirror_mode": {
    "name": "ipython",
    "version": 3
   },
   "file_extension": ".py",
   "mimetype": "text/x-python",
   "name": "python",
   "nbconvert_exporter": "python",
   "pygments_lexer": "ipython3",
   "version": "3.12.7"
  }
 },
 "nbformat": 4,
 "nbformat_minor": 5
}
