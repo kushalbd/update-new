{
 "cells": [
  {
   "cell_type": "code",
   "execution_count": 2,
   "id": "598156b6-c518-478f-b242-bfc759c95928",
   "metadata": {},
   "outputs": [
    {
     "name": "stdout",
     "output_type": "stream",
     "text": [
      "Running on all addresses.\n",
      "Use http://192.168.1.45:8080/ to access the application\n"
     ]
    },
    {
     "data": {
      "text/plain": [
       "True"
      ]
     },
     "execution_count": 2,
     "metadata": {},
     "output_type": "execute_result"
    }
   ],
   "source": [
    "import threading #function in bacl=kgroung like web server\n",
    "from pywebio import start_server # to run on local web server\n",
    "import webbrowser#open URLs in your default browser\n",
    "import json\n",
    "import requests\n",
    "from pywebio.input import *\n",
    "from pywebio.output import *\n",
    "from pywebio.session import * #Imports all input widgets from pywebio like input(), select(), checkbox(), etc. from webbased interface\n",
    "def fun_fact(): #styled title and image at the top\n",
    "    put_html(\n",
    "        '<p align=\"left\">'\n",
    "        '<h2><img src=\"https://media.geeksforgeeks.org/wp-content/uploads/20210720224119/MessagingHappyicon.png\"width=\"8%\"> Fun Fact Generator</h2>'#to get image\n",
    "        '</p>'\n",
    "    )\n",
    "\n",
    "    def get_fact(_):#for onclick(takes 0 positional arguments but 1 was given) if _ is not given\n",
    "        clear()# after user click button\n",
    "        put_html(\n",
    "            '<p align=\"left\">'\n",
    "            '<h2><img src=\"https://media.geeksforgeeks.org/wp-content/uploads/20210720224119/MessagingHappyicon.png\"width=\"8%\"> Fun Fact Generator</h2>'\n",
    "            '</p>'\n",
    "        )\n",
    "\n",
    "        try:\n",
    "            url=\"https://uselessfacts.jsph.pl/random.json?language=en\"# API taken form google search based on need(from get)\n",
    "            response=requests.get(url)\n",
    "            data=json.loads(response.text)# info returned by the server.\n",
    "            fact=data['text'] #to access\n",
    "            style(put_text(fact),'color:green; font-size:30px')\n",
    "        except: #for error\n",
    "            put_text(\"Could notfetch data\")\n",
    "        put_buttons([\"click\"],onclick=get_fact)#to make interactive\n",
    "    get_fact(None)#to show one time at start without clicking\n",
    "\n",
    "def run_app():\n",
    "    start_server(fun_fact,port=8080)# starts a PyWebIO web server ar port\n",
    "threading.Thread(target=run_app,daemon=True).start()#daemon- runs whr main \n",
    "webbrowser.open(\"http://localhost:8080\")# Opens your app in the default web browser\n",
    "    \n",
    "        "
   ]
  },
  {
   "cell_type": "code",
   "execution_count": null,
   "id": "77d8421a-9fc0-4f1f-8c0a-8d83424d7e02",
   "metadata": {},
   "outputs": [],
   "source": []
  }
 ],
 "metadata": {
  "kernelspec": {
   "display_name": "Python [conda env:base] *",
   "language": "python",
   "name": "conda-base-py"
  },
  "language_info": {
   "codemirror_mode": {
    "name": "ipython",
    "version": 3
   },
   "file_extension": ".py",
   "mimetype": "text/x-python",
   "name": "python",
   "nbconvert_exporter": "python",
   "pygments_lexer": "ipython3",
   "version": "3.12.7"
  }
 },
 "nbformat": 4,
 "nbformat_minor": 5
}
