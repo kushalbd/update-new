{
 "cells": [
  {
   "cell_type": "code",
   "execution_count": null,
   "id": "b2d00ac0-49c6-4618-b4ec-8719c47412ab",
   "metadata": {},
   "outputs": [],
   "source": []
  },
  {
   "cell_type": "code",
   "execution_count": 1,
   "id": "b0db8aaf-7414-463d-8308-d724e5eedd33",
   "metadata": {},
   "outputs": [
    {
     "name": "stdout",
     "output_type": "stream",
     "text": [
      "Requirement already satisfied: reportlab in c:\\users\\kushal\\anaconda3\\lib\\site-packages (4.4.1)Note: you may need to restart the kernel to use updated packages.\n",
      "\n",
      "Requirement already satisfied: pillow>=9.0.0 in c:\\users\\kushal\\anaconda3\\lib\\site-packages (from reportlab) (10.4.0)\n",
      "Requirement already satisfied: chardet in c:\\users\\kushal\\anaconda3\\lib\\site-packages (from reportlab) (4.0.0)\n"
     ]
    }
   ],
   "source": [
    "pip install reportlab"
   ]
  },
  {
   "cell_type": "code",
   "execution_count": 4,
   "id": "c697357f-b722-4f25-94f2-efebb7eece89",
   "metadata": {},
   "outputs": [
    {
     "ename": "NameError",
     "evalue": "name 'setSampleStylesheet' is not defined",
     "output_type": "error",
     "traceback": [
      "\u001b[1;31m---------------------------------------------------------------------------\u001b[0m",
      "\u001b[1;31mNameError\u001b[0m                                 Traceback (most recent call last)",
      "Cell \u001b[1;32mIn[4], line 11\u001b[0m\n\u001b[0;32m      5\u001b[0m data\u001b[38;5;241m=\u001b[39m[[\u001b[38;5;124m'\u001b[39m\u001b[38;5;124mSr no\u001b[39m\u001b[38;5;124m'\u001b[39m,\u001b[38;5;124m'\u001b[39m\u001b[38;5;124mname\u001b[39m\u001b[38;5;124m'\u001b[39m,\u001b[38;5;124m'\u001b[39m\u001b[38;5;124mquantity\u001b[39m\u001b[38;5;124m'\u001b[39m,\u001b[38;5;124m'\u001b[39m\u001b[38;5;124mprice\u001b[39m\u001b[38;5;124m'\u001b[39m],\n\u001b[0;32m      6\u001b[0m       [\u001b[38;5;124m'\u001b[39m\u001b[38;5;124m1\u001b[39m\u001b[38;5;124m'\u001b[39m,\u001b[38;5;124m'\u001b[39m\u001b[38;5;124msugar\u001b[39m\u001b[38;5;124m'\u001b[39m,\u001b[38;5;124m'\u001b[39m\u001b[38;5;124m2\u001b[39m\u001b[38;5;124m'\u001b[39m,\u001b[38;5;124m'\u001b[39m\u001b[38;5;124m90\u001b[39m\u001b[38;5;124m'\u001b[39m],\n\u001b[0;32m      7\u001b[0m       [\u001b[38;5;124m'\u001b[39m\u001b[38;5;124m2\u001b[39m\u001b[38;5;124m'\u001b[39m,\u001b[38;5;124m'\u001b[39m\u001b[38;5;124mdal\u001b[39m\u001b[38;5;124m'\u001b[39m,\u001b[38;5;124m'\u001b[39m\u001b[38;5;124m1.5\u001b[39m\u001b[38;5;124m'\u001b[39m,\u001b[38;5;124m'\u001b[39m\u001b[38;5;124m60\u001b[39m\u001b[38;5;124m'\u001b[39m],\n\u001b[0;32m      8\u001b[0m       [\u001b[38;5;124m'\u001b[39m\u001b[38;5;124m3\u001b[39m\u001b[38;5;124m'\u001b[39m,\u001b[38;5;124m'\u001b[39m\u001b[38;5;124mbiscuit\u001b[39m\u001b[38;5;124m'\u001b[39m,\u001b[38;5;124m'\u001b[39m\u001b[38;5;124m1\u001b[39m\u001b[38;5;124m'\u001b[39m,\u001b[38;5;124m'\u001b[39m\u001b[38;5;124m10\u001b[39m\u001b[38;5;124m'\u001b[39m],\n\u001b[0;32m      9\u001b[0m       [\u001b[38;5;124m'\u001b[39m\u001b[38;5;124mtotal\u001b[39m\u001b[38;5;124m'\u001b[39m,\u001b[38;5;124m'\u001b[39m\u001b[38;5;124m'\u001b[39m,\u001b[38;5;124m'\u001b[39m\u001b[38;5;124m'\u001b[39m,\u001b[38;5;124m'\u001b[39m\u001b[38;5;124m160\u001b[39m\u001b[38;5;124m'\u001b[39m]]\n\u001b[0;32m     10\u001b[0m pdf\u001b[38;5;241m=\u001b[39mSimpleDocTemplate(\u001b[38;5;124m'\u001b[39m\u001b[38;5;124mreceipt.pdf\u001b[39m\u001b[38;5;124m'\u001b[39m,pagesize\u001b[38;5;241m=\u001b[39mA4)\u001b[38;5;66;03m#create a pdf\u001b[39;00m\n\u001b[1;32m---> 11\u001b[0m styles\u001b[38;5;241m=\u001b[39msetSampleStylesheet()\n\u001b[0;32m     12\u001b[0m title_style\u001b[38;5;241m=\u001b[39mstyles[\u001b[38;5;124m'\u001b[39m\u001b[38;5;124mHeading2\u001b[39m\u001b[38;5;124m'\u001b[39m]\u001b[38;5;66;03m#from above\u001b[39;00m\n\u001b[0;32m     13\u001b[0m title_style\u001b[38;5;241m.\u001b[39malignment\u001b[38;5;241m=\u001b[39m\u001b[38;5;241m0\u001b[39m \u001b[38;5;66;03m# 0: left, 1: center, 2: right\u001b[39;00m\n",
      "\u001b[1;31mNameError\u001b[0m: name 'setSampleStylesheet' is not defined"
     ]
    }
   ],
   "source": [
    "from reportlab.platypus import SimpleDocTemplate, Table, Paragraph, TableStyle #PLATYPUS = Page Layout and Typography Using Scripts\n",
    "from reportlab.lib import colors\n",
    "from reportlab.lib.pagesizes import A4\n",
    "from reportlab.lib.styles import getSampleStyleSheet #apply fonts, spacing, alignment(standard)\n",
    "data=[['Sr no','name','quantity','price'],\n",
    "      ['1','sugar','2','90'],\n",
    "      ['2','dal','1.5','60'],\n",
    "      ['3','biscuit','1','10'],\n",
    "      ['total','','','160']]\n",
    "pdf=SimpleDocTemplate('receipt.pdf',pagesize=A4)#create a pdf\n",
    "styles=setSampleStylesheet()\n",
    "title_style=styles['Heading2']#from above\n",
    "title_style.alignment=0 # 0: left, 1: center, 2: right\n",
    "title=Paragraph('Grocery Recipt',title_style)#to get format\n",
    "style=TableStyle(\n",
    "    [('BOX',(0,0),(-1,-1),1,colors.blue),#(-1, -1) means bottom-right and blue border and 1 is line thickness\n",
    "     ('GRID',(0,0),(3,4),1,colors.red),#grid lines middle lines between them and can be used -1,-1\n",
    "     ('BACKGROUND',(0,0),(3,0),colors.black),\n",
    "     ('TEXTCOLOR',(0,0),(-1,0),colors.red),\n",
    "     (\"ALIGN\", (0, 0), (-1, -1), \"CENTER\"),\n",
    "     (\"BACKGROUND\", (0, 1), (-1, -1), colors.yellow),\n",
    "    ])\n",
    "table=Table(data,style=style)# list from data and style from tablestyle and create table oblect\n",
    "pdf.build([title,table])#generate pdf where title as heading and table\n",
    "\n",
    "      "
   ]
  },
  {
   "cell_type": "code",
   "execution_count": null,
   "id": "e0b52483-bb4d-4ba8-b703-65df6ce7cc11",
   "metadata": {},
   "outputs": [],
   "source": []
  }
 ],
 "metadata": {
  "kernelspec": {
   "display_name": "Python 3 (ipykernel)",
   "language": "python",
   "name": "python3"
  },
  "language_info": {
   "codemirror_mode": {
    "name": "ipython",
    "version": 3
   },
   "file_extension": ".py",
   "mimetype": "text/x-python",
   "name": "python",
   "nbconvert_exporter": "python",
   "pygments_lexer": "ipython3",
   "version": "3.12.7"
  }
 },
 "nbformat": 4,
 "nbformat_minor": 5
}
