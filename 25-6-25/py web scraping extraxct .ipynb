{
 "cells": [
  {
   "cell_type": "code",
   "execution_count": 7,
   "id": "692b6363-95f6-4c79-a480-1ef736bd2b5b",
   "metadata": {},
   "outputs": [
    {
     "name": "stdout",
     "output_type": "stream",
     "text": [
      "[<p><b><a href=\"/wiki/Nominative_determinism\" title=\"Nominative determinism\">Nominative determinism</a></b> is the <a href=\"/wiki/Hypothesis\" title=\"Hypothesis\">hypothesis</a> that people are drawn to professions that fit their name. The term was first used in the magazine <i><a href=\"/wiki/New_Scientist\" title=\"New Scientist\">New Scientist</a></i> in 1994, after its humorous Feedback column mentioned a book on polar explorations by Daniel Snowman and an article on urology by researchers named Splatt and Weedon. The hypothesis had been suggested by psychologist <a href=\"/wiki/Carl_Jung\" title=\"Carl Jung\">Carl Jung</a>, citing as an example <a href=\"/wiki/Sigmund_Freud\" title=\"Sigmund Freud\">Sigmund Freud</a> (German for 'joy'), who studied pleasure. A few recent empirical studies have indicated that certain professions are disproportionately represented by people with appropriate surnames, though the methods of these studies have been challenged. One explanation for nominative determinism is the theory of <a href=\"/wiki/Implicit_egotism\" title=\"Implicit egotism\">implicit egotism</a>, which states that humans have an unconscious preference for things they associate with themselves. An alternative explanation is genetic: an ancestor might have been named Smith or Taylor according to their occupation, and the genes they passed down might correlate to aptitudes for those professions. (<b><a href=\"/wiki/Nominative_determinism\" title=\"Nominative determinism\">Full article...</a></b>)\n",
      "</p>, <p><b><a href=\"/wiki/June_27\" title=\"June 27\">June 27</a></b>: <b><a href=\"/wiki/Helen_Keller_Day\" title=\"Helen Keller Day\">Helen Keller Day</a></b> in the United States\n",
      "</p>, <p>The <b><a href=\"/wiki/Men%27s_T20_World_Cup_tournaments\" title=\"Men's T20 World Cup tournaments\">ICC Men's T20 World Cup</a></b>, formerly the ICC World Twenty20, is a biennial <a href=\"/wiki/World_cup\" title=\"World cup\">world cup</a> for <a href=\"/wiki/Cricket\" title=\"Cricket\">cricket</a> in the <a href=\"/wiki/Twenty20_International\" title=\"Twenty20 International\">Twenty20 International</a> (T20I) format, organised by the <a href=\"/wiki/International_Cricket_Council\" title=\"International Cricket Council\">International Cricket Council</a> (ICC). It was held in every odd year from <a href=\"/wiki/2007_World_Twenty20\" title=\"2007 World Twenty20\">2007</a> to <a href=\"/wiki/2009_World_Twenty20\" title=\"2009 World Twenty20\">2009</a>, and since <a href=\"/wiki/2010_World_Twenty20\" title=\"2010 World Twenty20\">2010</a> has been held in every even year with the exception of 2018 and 2020. In 2018, the <a href=\"/wiki/Men%27s_T20_World_Cup\" title=\"Men's T20 World Cup\">tournament</a> was rebranded from the World Twenty20 to the Men's T20 World Cup. As of the <a href=\"/wiki/2024_Men%27s_T20_World_Cup\" title=\"2024 Men's T20 World Cup\">2024 tournament</a>, twenty-four nations have played in the T20 World Cup. Nine teams have competed in every tournament, six of which have won the title. The <a href=\"/wiki/West_Indies_cricket_team\" title=\"West Indies cricket team\">West Indies</a>, <a href=\"/wiki/England_cricket_team\" title=\"England cricket team\">England</a> and <a href=\"/wiki/India_national_cricket_team\" title=\"India national cricket team\">India</a> have won the title twice each, while <a href=\"/wiki/Pakistan_national_cricket_team\" title=\"Pakistan national cricket team\">Pakistan</a>, <a href=\"/wiki/Sri_Lanka_national_cricket_team\" title=\"Sri Lanka national cricket team\">Sri Lanka</a> and <a href=\"/wiki/Australia_national_cricket_team\" title=\"Australia national cricket team\">Australia</a> have won the title once each. Sri Lanka, England, Pakistan and India have each made three final appearances, while Pakistan have also made six semi-final appearances. The best result by a <a href=\"/wiki/List_of_International_Cricket_Council_members#Associate_members\" title=\"List of International Cricket Council members\">non-Test playing nation</a> is the second round appearance by the <a href=\"/wiki/United_States_national_cricket_team\" title=\"United States national cricket team\">United States</a> in 2024, while the worst result by a <a href=\"/wiki/List_of_International_Cricket_Council_members#Full_members\" title=\"List of International Cricket Council members\">Test playing nation</a> is the second round appearance by <a href=\"/wiki/Zimbabwe_national_cricket_team\" title=\"Zimbabwe national cricket team\">Zimbabwe</a> in <a href=\"/wiki/2022_Men%27s_T20_World_Cup\" title=\"2022 Men's T20 World Cup\">2022</a>. (<b><a href=\"/wiki/Men%27s_T20_World_Cup_tournaments\" title=\"Men's T20 World Cup tournaments\">Full list...</a></b>)\n",
      "</p>, <p><b><a href=\"/wiki/Whitehead%27s_trogon\" title=\"Whitehead's trogon\">Whitehead's trogon</a></b> (<i>Harpactes whiteheadi</i>) is a species of bird in the family <a href=\"/wiki/Trogon\" title=\"Trogon\">Trogonidae</a>. It is <a href=\"/wiki/Endemism\" title=\"Endemism\">endemic</a> to the island of <a href=\"/wiki/Borneo\" title=\"Borneo\">Borneo</a>, where it is an uncommon <dfn><a href=\"/wiki/Glossary_of_bird_terms#resident\" title=\"Glossary of bird terms\"><span class=\"glossary-link\" style=\"color:inherit;\" title=\"See entry at: Glossary of bird terms § resident\">resident</span></a></dfn> in <a href=\"/wiki/Old-growth_forest\" title=\"Old-growth forest\">primary</a> mountain forest. One of Borneo's largest trogons, at 29 to 33 centimetres (11 to 13 inches) long, it is <a href=\"/wiki/Sexual_dimorphism\" title=\"Sexual dimorphism\">sexually dimorphic</a>. The male is crimson on the head, <dfn><a href=\"/wiki/Glossary_of_bird_terms#nape\" title=\"Glossary of bird terms\"><span class=\"glossary-link\" style=\"color:inherit;\" title=\"See entry at: Glossary of bird terms § nape\">nape</span></a></dfn>, and underparts, with a black throat and grey chest; the rest of its <dfn><a href=\"/wiki/Glossary_of_bird_terms#upperparts\" title=\"Glossary of bird terms\"><span class=\"glossary-link\" style=\"color:inherit;\" title=\"See entry at: Glossary of bird terms § upperparts\">upperparts</span></a></dfn> are cinnamon-coloured. The female is similarly patterned, but cinnamon-brown where the male is scarlet. The species is primarily an <a href=\"/wiki/Insectivore\" title=\"Insectivore\">insectivore</a>, but also eats various plant materials, including fruits and seeds. Other than the timing of its breeding, typically between April and June, little is known about its breeding biology. It is classified as a <a href=\"/wiki/Near-threatened_species\" title=\"Near-threatened species\">near-threatened species</a>, with population numbers thought to be declining and <a href=\"/wiki/Habitat_destruction\" title=\"Habitat destruction\">habitat loss</a> a key threat. This male Whitehead's trogon was photographed perching on a branch near <a href=\"/wiki/Mount_Kinabalu\" title=\"Mount Kinabalu\">Mount Kinabalu</a> in the Malaysian state of <a href=\"/wiki/Sabah\" title=\"Sabah\">Sabah</a>.\n",
      "</p>, <p style=\"text-align:center;\"><small>Photograph credit: <a href=\"/wiki/User:JJ_Harrison\" title=\"User:JJ Harrison\">John Harrison</a></small></p>, <p>Wikipedia is written by volunteer editors and hosted by the <a href=\"/wiki/Wikimedia_Foundation\" title=\"Wikimedia Foundation\">Wikimedia Foundation</a>, a non-profit organization that also hosts a range of other volunteer <a class=\"extiw\" href=\"https://wikimediafoundation.org/our-work/wikimedia-projects/\" title=\"foundationsite:our-work/wikimedia-projects/\">projects</a>:\n",
      "</p>, <p>This Wikipedia is written in <a href=\"/wiki/English_language\" title=\"English language\">English</a>. Many <a class=\"extiw\" href=\"https://meta.wikimedia.org/wiki/List_of_Wikipedias\" title=\"meta:List of Wikipedias\">other Wikipedias are available</a>; some of the largest are listed below.\n",
      "</p>]\n",
      "paragraph\n",
      "Nominative determinism is the hypothesis that people are drawn to professions that fit their name. The term was first used in the magazine New Scientist in 1994, after its humorous Feedback column mentioned a book on polar explorations by Daniel Snowman and an article on urology by researchers named Splatt and Weedon. The hypothesis had been suggested by psychologist Carl Jung, citing as an example Sigmund Freud (German for 'joy'), who studied pleasure. A few recent empirical studies have indicated that certain professions are disproportionately represented by people with appropriate surnames, though the methods of these studies have been challenged. One explanation for nominative determinism is the theory of implicit egotism, which states that humans have an unconscious preference for things they associate with themselves. An alternative explanation is genetic: an ancestor might have been named Smith or Taylor according to their occupation, and the genes they passed down might correlate to aptitudes for those professions. (Full article...)\n",
      "\n"
     ]
    }
   ],
   "source": [
    "from bs4 import BeautifulSoup\n",
    "import requests\n",
    "page1=requests.get(\"https://en.wikipedia.org/wiki/Main_Page\")\n",
    "soup1 = BeautifulSoup(page1.content,'html.parser')\n",
    "list(soup1.children)#children of the whole document (soup1), not nested inside each other\n",
    "print(soup1.find_all('p'))\n",
    "print('paragraph')\n",
    "print(soup1.find_all('p')[0].get_text())# not include HTML tags only \n"
   ]
  },
  {
   "cell_type": "code",
   "execution_count": null,
   "id": "8a6d57ef-a898-47b0-aaa8-69d12d7231fb",
   "metadata": {},
   "outputs": [],
   "source": []
  }
 ],
 "metadata": {
  "kernelspec": {
   "display_name": "Python [conda env:base] *",
   "language": "python",
   "name": "conda-base-py"
  },
  "language_info": {
   "codemirror_mode": {
    "name": "ipython",
    "version": 3
   },
   "file_extension": ".py",
   "mimetype": "text/x-python",
   "name": "python",
   "nbconvert_exporter": "python",
   "pygments_lexer": "ipython3",
   "version": "3.12.7"
  }
 },
 "nbformat": 4,
 "nbformat_minor": 5
}
