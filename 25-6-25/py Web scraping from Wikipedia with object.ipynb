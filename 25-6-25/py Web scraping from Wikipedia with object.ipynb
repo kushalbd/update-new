{
 "cells": [
  {
   "cell_type": "code",
   "execution_count": 6,
   "id": "b6060a49-c641-4926-bbad-e812ee9a4ce9",
   "metadata": {},
   "outputs": [
    {
     "name": "stdout",
     "output_type": "stream",
     "text": [
      "<h2 class=\"mp-h2 mw-html-heading\" id=\"mp-tfa-h2\">\n",
      " From today's featured article\n",
      "</h2>\n",
      "\n"
     ]
    }
   ],
   "source": [
    "from bs4 import BeautifulSoup\n",
    "import requests\n",
    "page1=requests.get(\"https://en.wikipedia.org/wiki/Main_Page\")\n",
    "soup1=BeautifulSoup(page1.content,'html.parser')\n",
    "obj=soup1.find(id='mp-left')#Find the section with id='mp-left'\n",
    "items=obj.find_all(class_='mp-h2')#Find all elements with class 'mp-h2'\n",
    "result=items[0]#get the only first item\n",
    "print(result.prettify())#visually see nested tags and their hierarchy"
   ]
  },
  {
   "cell_type": "code",
   "execution_count": null,
   "id": "c4515a4b-3a11-48d9-a892-9e045f0a5673",
   "metadata": {},
   "outputs": [],
   "source": []
  }
 ],
 "metadata": {
  "kernelspec": {
   "display_name": "Python [conda env:base] *",
   "language": "python",
   "name": "conda-base-py"
  },
  "language_info": {
   "codemirror_mode": {
    "name": "ipython",
    "version": 3
   },
   "file_extension": ".py",
   "mimetype": "text/x-python",
   "name": "python",
   "nbconvert_exporter": "python",
   "pygments_lexer": "ipython3",
   "version": "3.12.7"
  }
 },
 "nbformat": 4,
 "nbformat_minor": 5
}
