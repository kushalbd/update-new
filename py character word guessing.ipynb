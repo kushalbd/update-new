{
 "cells": [
  {
   "cell_type": "code",
   "execution_count": 2,
   "id": "56174f5c-165a-4918-84ec-60ffcd6fb297",
   "metadata": {},
   "outputs": [
    {
     "name": "stdin",
     "output_type": "stream",
     "text": [
      "what is your name? kushal\n"
     ]
    },
    {
     "name": "stdout",
     "output_type": "stream",
     "text": [
      "Best Luck kushal\n",
      "guess characters of word\n",
      "_\n",
      "_\n",
      "_\n",
      "_\n",
      "_\n",
      "_\n",
      "_\n",
      "\n"
     ]
    },
    {
     "name": "stdin",
     "output_type": "stream",
     "text": [
      "guess character: a\n"
     ]
    },
    {
     "name": "stdout",
     "output_type": "stream",
     "text": [
      "_\n",
      "_\n",
      "_\n",
      "_\n",
      "_\n",
      "a_\n",
      "\n"
     ]
    },
    {
     "name": "stdin",
     "output_type": "stream",
     "text": [
      "guess character: e\n"
     ]
    },
    {
     "name": "stdout",
     "output_type": "stream",
     "text": [
      "incorrect\n",
      "you have 11 guesses\n",
      "_\n",
      "_\n",
      "_\n",
      "_\n",
      "_\n",
      "a_\n",
      "\n"
     ]
    },
    {
     "name": "stdin",
     "output_type": "stream",
     "text": [
      "guess character: s\n"
     ]
    },
    {
     "name": "stdout",
     "output_type": "stream",
     "text": [
      "incorrect\n",
      "you have 10 guesses\n",
      "_\n",
      "_\n",
      "_\n",
      "_\n",
      "_\n",
      "a_\n",
      "\n"
     ]
    },
    {
     "name": "stdin",
     "output_type": "stream",
     "text": [
      "guess character: l\n"
     ]
    },
    {
     "name": "stdout",
     "output_type": "stream",
     "text": [
      "_\n",
      "_\n",
      "_\n",
      "_\n",
      "_\n",
      "al\n"
     ]
    },
    {
     "name": "stdin",
     "output_type": "stream",
     "text": [
      "guess character: v\n"
     ]
    },
    {
     "name": "stdout",
     "output_type": "stream",
     "text": [
      "v_\n",
      "_\n",
      "_\n",
      "_\n",
      "al\n"
     ]
    },
    {
     "name": "stdin",
     "output_type": "stream",
     "text": [
      "guess character: i\n"
     ]
    },
    {
     "name": "stdout",
     "output_type": "stream",
     "text": [
      "vi_\n",
      "_\n",
      "_\n",
      "al\n"
     ]
    },
    {
     "name": "stdin",
     "output_type": "stream",
     "text": [
      "guess character: r\n"
     ]
    },
    {
     "name": "stdout",
     "output_type": "stream",
     "text": [
      "vir_\n",
      "_\n",
      "al\n"
     ]
    },
    {
     "name": "stdin",
     "output_type": "stream",
     "text": [
      "guess character: t\n"
     ]
    },
    {
     "name": "stdout",
     "output_type": "stream",
     "text": [
      "virt_\n",
      "al\n"
     ]
    },
    {
     "name": "stdin",
     "output_type": "stream",
     "text": [
      "guess character: u\n"
     ]
    },
    {
     "name": "stdout",
     "output_type": "stream",
     "text": [
      "virtualyou won\n",
      "word is: virtual\n"
     ]
    }
   ],
   "source": [
    "import random\n",
    "name =input(\"what is your name?\")\n",
    "print(\"Best Luck\",name)\n",
    "\n",
    "words=['camle','data','science','virtual','reality','board','game','carrom',\n",
    "       'cash','sand','sum','sub']\n",
    "words1=random.choice(words)\n",
    "print(\"guess characters of word\")\n",
    "\n",
    "guesses=''# at start\n",
    "turns=12\n",
    "\n",
    "while turns>0:\n",
    "    failed=0 #variable\n",
    "    for char in words1:\n",
    "        if char in guesses:\n",
    "            print(char,end=\"\") #to identify white paces\n",
    "        else:\n",
    "            print(\"_\")#still emppty\n",
    "            failed+=1\n",
    "            \n",
    "    if failed == 0:\n",
    "        print(\"you won\")\n",
    "        print(\"word is:\",words1)\n",
    "        break\n",
    "    print()\n",
    "    guess= input(\"guess character:\")\n",
    "    guesses+=guess\n",
    "    \n",
    "    if guess not in words1:\n",
    "        turns -=1\n",
    "        print(\"incorrect\")\n",
    "        print(\"you have\",+turns,\"guesses\")\n",
    "        if turns==0:\n",
    "            print(\"you lost\")\n",
    "\n",
    "\n",
    "\n",
    "\n",
    "    \n"
   ]
  },
  {
   "cell_type": "code",
   "execution_count": null,
   "id": "0f3cd15c-2052-42ff-9b8e-01993cc1c072",
   "metadata": {},
   "outputs": [],
   "source": []
  }
 ],
 "metadata": {
  "kernelspec": {
   "display_name": "Python 3 (ipykernel)",
   "language": "python",
   "name": "python3"
  },
  "language_info": {
   "codemirror_mode": {
    "name": "ipython",
    "version": 3
   },
   "file_extension": ".py",
   "mimetype": "text/x-python",
   "name": "python",
   "nbconvert_exporter": "python",
   "pygments_lexer": "ipython3",
   "version": "3.12.7"
  }
 },
 "nbformat": 4,
 "nbformat_minor": 5
}
